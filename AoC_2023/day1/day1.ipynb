{
 "cells": [
  {
   "cell_type": "code",
   "execution_count": 56,
   "metadata": {},
   "outputs": [
    {
     "name": "stdout",
     "output_type": "stream",
     "text": [
      "53221\n"
     ]
    }
   ],
   "source": [
    "input = open(\"input.txt\",\"r\")\n",
    "ans = 0\n",
    "for line in input:\n",
    "    line = line.replace(\"one\",\"o1e\")\n",
    "    line = line.replace(\"two\",\"t2o\")\n",
    "    line = line.replace(\"three\",\"t3e\")\n",
    "    line = line.replace(\"four\",\"f4r\")\n",
    "    line = line.replace(\"five\",\"f5e\")\n",
    "    line = line.replace(\"six\",\"s6x\")\n",
    "    line = line.replace(\"seven\",\"s7n\")\n",
    "    line = line.replace(\"eight\",\"e8t\")\n",
    "    line = line.replace(\"nine\",\"n9e\")\n",
    "\n",
    "\n",
    "    first_num = -1\n",
    "    last_num = -1\n",
    "    for char in line:\n",
    "        if char.isnumeric():            \n",
    "            if first_num < 0:\n",
    "                first_num = int(char)\n",
    "                last_num = int(char)\n",
    "            else:\n",
    "                    last_num = int(char)\n",
    "    ans += 10*first_num + last_num\n",
    "\n",
    "print(ans)\n"
   ]
  }
 ],
 "metadata": {
  "kernelspec": {
   "display_name": "Python 3",
   "language": "python",
   "name": "python3"
  },
  "language_info": {
   "codemirror_mode": {
    "name": "ipython",
    "version": 3
   },
   "file_extension": ".py",
   "mimetype": "text/x-python",
   "name": "python",
   "nbconvert_exporter": "python",
   "pygments_lexer": "ipython3",
   "version": "3.12.0"
  }
 },
 "nbformat": 4,
 "nbformat_minor": 2
}
