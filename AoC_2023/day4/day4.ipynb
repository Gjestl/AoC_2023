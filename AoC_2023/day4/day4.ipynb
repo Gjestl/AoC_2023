{
 "cells": [
  {
   "cell_type": "code",
   "execution_count": 85,
   "metadata": {},
   "outputs": [],
   "source": [
    "input = open(\"input.txt\").read().split(\"\\n\")"
   ]
  },
  {
   "cell_type": "code",
   "execution_count": 74,
   "metadata": {},
   "outputs": [
    {
     "name": "stdout",
     "output_type": "stream",
     "text": [
      "Answer to part 1: 13\n"
     ]
    }
   ],
   "source": [
    "ans1 = 0\n",
    "for card in input:\n",
    "    win_cnt = 0\n",
    "    winners = card.split(\": \")[1].split(\" | \")[0].split(\" \")    \n",
    "    nums = card.split(\": \")[1].split(\" | \")[1].split(\" \")\n",
    "    for num in nums:\n",
    "        if num.isnumeric() and num in winners:\n",
    "            win_cnt += 1\n",
    "    \n",
    "    card_score = pow(2,win_cnt - 1)\n",
    "    if win_cnt == 0:\n",
    "        card_score = 0\n",
    "    ans1 += card_score\n",
    "   # print(f\"{win_cnt} winners giving {card_score} points\")\n",
    "\n",
    "print(f\"Answer to part 1: {ans1}\")\n"
   ]
  },
  {
   "cell_type": "code",
   "execution_count": 86,
   "metadata": {},
   "outputs": [
    {
     "name": "stdout",
     "output_type": "stream",
     "text": [
      "Answer part 2: 8063216\n"
     ]
    }
   ],
   "source": [
    "win_list = []\n",
    "card_count_list = []\n",
    "\n",
    "for card in input:\n",
    "    win_cnt = 0\n",
    "    winners = card.split(\": \")[1].split(\" | \")[0].split(\" \")    \n",
    "    nums = card.split(\": \")[1].split(\" | \")[1].split(\" \")\n",
    "    for num in nums:\n",
    "        if num.isnumeric() and num in winners:\n",
    "            win_cnt += 1\n",
    "    \n",
    "\n",
    "    win_list.append(win_cnt)\n",
    "    card_count_list.append(1)\n",
    "\n",
    "\n",
    "\n",
    "for card_no in range(len(win_list)):\n",
    "    for add_cnt in range(win_list[card_no]):\n",
    "        card_count_list[card_no + 1 + add_cnt] += card_count_list[card_no]\n",
    "\n",
    "print(f\"Answer part 2: {sum(card_count_list)}\" )\n",
    "\n"
   ]
  }
 ],
 "metadata": {
  "kernelspec": {
   "display_name": "Python 3",
   "language": "python",
   "name": "python3"
  },
  "language_info": {
   "codemirror_mode": {
    "name": "ipython",
    "version": 3
   },
   "file_extension": ".py",
   "mimetype": "text/x-python",
   "name": "python",
   "nbconvert_exporter": "python",
   "pygments_lexer": "ipython3",
   "version": "3.10.4"
  }
 },
 "nbformat": 4,
 "nbformat_minor": 2
}
