{
 "cells": [
  {
   "cell_type": "code",
   "execution_count": null,
   "metadata": {},
   "outputs": [],
   "source": [
    "def get_numbers_from_row(row): \n",
    "    char_list = []\n",
    "    current_num = \"\"\n",
    "    current_char_num = 0\n",
    "    for char in (row):    \n",
    "        if char.isnumeric():\n",
    "            current_num += char         \n",
    "        else:\n",
    "            if current_num != \"\":\n",
    "                num_char = [current_char_num - len(current_num), current_num]\n",
    "                char_list.append(num_char)\n",
    "            current_num = \"\"\n",
    "        current_char_num += 1 \n",
    "    if char.isnumeric():\n",
    "        num_char = [current_char_num - len(current_num), current_num]\n",
    "        char_list.append(num_char)\n",
    "    return char_list\n",
    "\n",
    "def get_asterix(grid):\n",
    "    asterix_list = []\n",
    "    rowno = 0\n",
    "    colno = 0\n",
    "    for row in grid:\n",
    "        for char in row:\n",
    "            if char == \"*\":\n",
    "                  asterix_list.append([rowno,colno])\n",
    "            colno += 1\n",
    "        rowno += 1   \n",
    "        colno = 0\n",
    "    return asterix_list \n"
   ]
  },
  {
   "cell_type": "code",
   "execution_count": null,
   "metadata": {},
   "outputs": [],
   "source": [
    "def get_neighbours(coords, number, grid):\n",
    "    neighbours = []\n",
    "    if coords[1] > 0:\n",
    "        neighbours.append(grid[coords[0]][coords[1]-1])\n",
    "    if coords[1] + len(str(number)) < len(input[0]) - 1:\n",
    "        neighbours.append(grid[coords[0]][coords[1]+len(str(number))])\n",
    "    for digit in range(len(str(number))):\n",
    "        if coords[0] < len(grid) - 1:\n",
    "            neighbours.append(grid[coords[0]+1][coords[1]+digit])\n",
    "        if coords[0] > 0:\n",
    "            neighbours.append(grid[coords[0]-1][coords[1]+digit])\n",
    "    #add diagonals:\n",
    "    if coords[0] > 0 and coords[1]>0: #over venstre \n",
    "        neighbours.append(grid[coords[0]-1][coords[1]-1])\n",
    "    #over høyre \n",
    "    if coords[0] > 0 and coords[1]<len(input[0]) - len(str(number)):\n",
    "        neighbours.append(grid[coords[0]-1][coords[1]+len(str(number))])\n",
    "    #under venstre     \n",
    "    if coords[0] < len(grid) - 1 and coords[1]>0: #under venstre \n",
    "        neighbours.append(grid[coords[0]+1][coords[1]-1])\n",
    "    #under høyre \n",
    "    if coords[0] < len(grid) - 1 and coords[1]< len(input[0]) - len(str(number)):        \n",
    "        neighbours.append(grid[coords[0]+1][coords[1]+len(str(number))])\n",
    "    return neighbours"
   ]
  },
  {
   "cell_type": "code",
   "execution_count": null,
   "metadata": {},
   "outputs": [],
   "source": [
    "def get_numbers(grid):\n",
    "    rowno = 0\n",
    "    numbers = []\n",
    "    for row in input:  \n",
    "        for number in get_numbers_from_row(row):\n",
    "            numbers.append([[rowno, number[0]], number[1]])\n",
    "        rowno += 1\n",
    "    return numbers"
   ]
  },
  {
   "cell_type": "code",
   "execution_count": null,
   "metadata": {},
   "outputs": [],
   "source": [
    "def is_neighbour(x, y):\n",
    "    if abs(x[0] - y[0]) < 2 and abs(x[1] - y[1]) < 2:\n",
    "        return True\n",
    "    return False\n"
   ]
  },
  {
   "cell_type": "code",
   "execution_count": null,
   "metadata": {},
   "outputs": [],
   "source": [
    "def check_gear(point,numbers):\n",
    "    score = 0\n",
    "    #[1,3]\n",
    "    no_neighbours = 0\n",
    "    neighbours = []\n",
    "    score = 0\n",
    "    for number in numbers:\n",
    "        for digit in range(int(len(str(number[1])))):            \n",
    "          #  print(f\"Checking point {[number[0][0], number[0][1] + digit]} and {point}. {is_neighbour([number[0][0], number[0][1] + digit], point)} \")\n",
    "            if is_neighbour([number[0][0], number[0][1] + digit], point):\n",
    "                no_neighbours += 1\n",
    "                neighbours.append(number)\n",
    "                break\n",
    "     #   print(f\"Asterix {point} has {no_neighbours} neighbours!\")\n",
    "    if no_neighbours == 2:\n",
    "      #  print(f\"Gear! Score is {int(neighbours[0][1])*int(neighbours[1][1])}\")\n",
    "        score += int(neighbours[0][1])*int(neighbours[1][1])\n",
    "    return score\n"
   ]
  },
  {
   "cell_type": "code",
   "execution_count": 337,
   "metadata": {},
   "outputs": [],
   "source": [
    "input = open(\"input.txt\").read().split(\"\\n\")"
   ]
  },
  {
   "cell_type": "code",
   "execution_count": null,
   "metadata": {},
   "outputs": [],
   "source": [
    "def check_if_part(neighbours):\n",
    "    non_parts = [\".\", \"0\",\"1\",\"2\",\"3\",\"4\",\"5\",\"6\",\"7\",\"8\",\"9\"]\n",
    "    for neighbour in neighbours:\n",
    "        if neighbour not in non_parts:\n",
    "            return True\n",
    "    return False"
   ]
  },
  {
   "cell_type": "code",
   "execution_count": null,
   "metadata": {},
   "outputs": [],
   "source": [
    "ans2 = 0\n",
    "for asterix in get_asterix(input):\n",
    "    ans2 += check_gear(asterix,get_numbers(input) )\n",
    "print(ans2)\n"
   ]
  },
  {
   "cell_type": "code",
   "execution_count": 338,
   "metadata": {},
   "outputs": [
    {
     "name": "stdout",
     "output_type": "stream",
     "text": [
      "Answer to part1: 530849\n"
     ]
    }
   ],
   "source": [
    "ans1 = 0\n",
    "rowno = 0\n",
    "\n",
    "for row in input:\n",
    "    for number in get_numbers_from_row(row):\n",
    "\n",
    "        neighbours = get_neighbours([rowno, number[0]], number[1], input)        \n",
    "        if check_if_part(neighbours):            \n",
    "            ans1 += int(number[1])     \n",
    "    rowno += 1 \n",
    "print(f\"Answer to part1: {ans1}\")"
   ]
  }
 ],
 "metadata": {
  "kernelspec": {
   "display_name": "Python 3",
   "language": "python",
   "name": "python3"
  },
  "language_info": {
   "codemirror_mode": {
    "name": "ipython",
    "version": 3
   },
   "file_extension": ".py",
   "mimetype": "text/x-python",
   "name": "python",
   "nbconvert_exporter": "python",
   "pygments_lexer": "ipython3",
   "version": "3.10.4"
  }
 },
 "nbformat": 4,
 "nbformat_minor": 2
}
