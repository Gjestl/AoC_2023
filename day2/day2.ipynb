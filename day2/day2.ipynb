{
 "cells": [
  {
   "cell_type": "code",
   "execution_count": 129,
   "metadata": {},
   "outputs": [],
   "source": [
    "#The Elf would first like to know which games would have been possible if the bag contained only 12 red cubes, 13 green cubes, and 14 blue cubes?\n",
    "\n",
    "color_limit_list = {\n",
    "    \"red\": 12,\n",
    "    \"green\": 13,\n",
    "    \"blue\": 14\n",
    "}\n",
    "input = open(\"input.txt\").read().split(\"\\n\")"
   ]
  },
  {
   "cell_type": "code",
   "execution_count": 132,
   "metadata": {},
   "outputs": [
    {
     "name": "stdout",
     "output_type": "stream",
     "text": [
      "Total score for part 1 = 2512\n",
      "Total score for part 2 = 67335\n"
     ]
    }
   ],
   "source": [
    "ans1 = 0\n",
    "ans2 = 0\n",
    "for game in input:\n",
    "    minimal_cube_set = {\n",
    "        \"red\": 0,\n",
    "        \"green\": 0,\n",
    "        \"blue\": 0\n",
    "    }      \n",
    "    game_num = int(game.split(\":\")[0].split(\" \")[1])    \n",
    "    game_possible = True\n",
    "    game_array = game.split(\": \")[1].split(\"; \")\n",
    "    \n",
    "    for subgame in game_array:\n",
    "        colors = subgame.split(\", \")\n",
    "        for color in colors:                      \n",
    "            quantity, color = color.split(' ')\n",
    "            if int(quantity) > color_limit_list[color]:\n",
    "                game_possible = False\n",
    "            if int(quantity) > minimal_cube_set[color]:\n",
    "                minimal_cube_set[color] = int(quantity)\n",
    "    ans2 += minimal_cube_set[\"blue\"]*minimal_cube_set[\"green\"]*minimal_cube_set[\"red\"]\n",
    "    if game_possible:\n",
    "        ans1 += game_num\n",
    "print(f\"Total score for part 1 = {ans1}\")\n",
    "print(f\"Total score for part 2 = {ans2}\")"
   ]
  }
 ],
 "metadata": {
  "kernelspec": {
   "display_name": "Python 3",
   "language": "python",
   "name": "python3"
  },
  "language_info": {
   "codemirror_mode": {
    "name": "ipython",
    "version": 3
   },
   "file_extension": ".py",
   "mimetype": "text/x-python",
   "name": "python",
   "nbconvert_exporter": "python",
   "pygments_lexer": "ipython3",
   "version": "3.10.4"
  },
  "orig_nbformat": 4,
  "vscode": {
   "interpreter": {
    "hash": "de240290c33b37a4aa9dedc7b2e2bc1b9237bf24268b25eb168283153a851d00"
   }
  }
 },
 "nbformat": 4,
 "nbformat_minor": 2
}
